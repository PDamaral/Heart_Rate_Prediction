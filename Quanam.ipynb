{
 "cells": [
  {
   "cell_type": "markdown",
   "id": "f039c2d7",
   "metadata": {},
   "source": [
    "# Prediçao de ritmo cardiaco"
   ]
  },
  {
   "cell_type": "markdown",
   "id": "39dee0ff",
   "metadata": {},
   "source": [
    "Resumo sobre o projeto"
   ]
  },
  {
   "cell_type": "markdown",
   "id": "f8f7fba6",
   "metadata": {},
   "source": [
    "# 0.0 importaçoes"
   ]
  },
  {
   "cell_type": "code",
   "execution_count": 1,
   "id": "6b754c96",
   "metadata": {},
   "outputs": [],
   "source": [
    "import pandas as pd\n",
    "import numpy as np\n",
    "import matplotlib.pyplot as plt\n",
    "import seaborn as sns\n",
    "import xgboost as xgb\n",
    "\n",
    "from sklearn.preprocessing import MinMaxScaler\n",
    "from sklearn.preprocessing import Normalizer\n",
    "from sklearn.model_selection import train_test_split\n",
    "from sklearn.ensemble import RandomForestRegressor\n",
    "from sklearn.linear_model import LinearRegression\n",
    "from sklearn.linear_model import Lasso\n",
    "from sklearn.metrics import r2_score"
   ]
  },
  {
   "cell_type": "code",
   "execution_count": 2,
   "id": "fa350fc7",
   "metadata": {
    "scrolled": false
   },
   "outputs": [
    {
     "data": {
      "text/html": [
       "<div>\n",
       "<style scoped>\n",
       "    .dataframe tbody tr th:only-of-type {\n",
       "        vertical-align: middle;\n",
       "    }\n",
       "\n",
       "    .dataframe tbody tr th {\n",
       "        vertical-align: top;\n",
       "    }\n",
       "\n",
       "    .dataframe thead th {\n",
       "        text-align: right;\n",
       "    }\n",
       "</style>\n",
       "<table border=\"1\" class=\"dataframe\">\n",
       "  <thead>\n",
       "    <tr style=\"text-align: right;\">\n",
       "      <th></th>\n",
       "      <th>ID</th>\n",
       "      <th>ILLUM</th>\n",
       "      <th>HUMID</th>\n",
       "      <th>CO2</th>\n",
       "      <th>SOUND</th>\n",
       "      <th>TEMP</th>\n",
       "      <th>RYTHM</th>\n",
       "    </tr>\n",
       "  </thead>\n",
       "  <tbody>\n",
       "    <tr>\n",
       "      <th>0</th>\n",
       "      <td>1</td>\n",
       "      <td>546.27</td>\n",
       "      <td>64.61</td>\n",
       "      <td>493.64</td>\n",
       "      <td>26.18</td>\n",
       "      <td>21.30</td>\n",
       "      <td>78.00</td>\n",
       "    </tr>\n",
       "    <tr>\n",
       "      <th>1</th>\n",
       "      <td>2</td>\n",
       "      <td>467.90</td>\n",
       "      <td>65.59</td>\n",
       "      <td>486.10</td>\n",
       "      <td>41.06</td>\n",
       "      <td>23.27</td>\n",
       "      <td>92.39</td>\n",
       "    </tr>\n",
       "    <tr>\n",
       "      <th>2</th>\n",
       "      <td>3</td>\n",
       "      <td>387.14</td>\n",
       "      <td>70.23</td>\n",
       "      <td>501.81</td>\n",
       "      <td>25.93</td>\n",
       "      <td>18.77</td>\n",
       "      <td>85.17</td>\n",
       "    </tr>\n",
       "    <tr>\n",
       "      <th>3</th>\n",
       "      <td>4</td>\n",
       "      <td>339.75</td>\n",
       "      <td>74.72</td>\n",
       "      <td>535.88</td>\n",
       "      <td>30.50</td>\n",
       "      <td>19.41</td>\n",
       "      <td>80.76</td>\n",
       "    </tr>\n",
       "    <tr>\n",
       "      <th>4</th>\n",
       "      <td>5</td>\n",
       "      <td>521.01</td>\n",
       "      <td>64.09</td>\n",
       "      <td>492.80</td>\n",
       "      <td>40.96</td>\n",
       "      <td>20.30</td>\n",
       "      <td>81.00</td>\n",
       "    </tr>\n",
       "    <tr>\n",
       "      <th>...</th>\n",
       "      <td>...</td>\n",
       "      <td>...</td>\n",
       "      <td>...</td>\n",
       "      <td>...</td>\n",
       "      <td>...</td>\n",
       "      <td>...</td>\n",
       "      <td>...</td>\n",
       "    </tr>\n",
       "    <tr>\n",
       "      <th>3195</th>\n",
       "      <td>3196</td>\n",
       "      <td>549.06</td>\n",
       "      <td>67.97</td>\n",
       "      <td>553.70</td>\n",
       "      <td>27.40</td>\n",
       "      <td>16.49</td>\n",
       "      <td>76.93</td>\n",
       "    </tr>\n",
       "    <tr>\n",
       "      <th>3196</th>\n",
       "      <td>3197</td>\n",
       "      <td>408.51</td>\n",
       "      <td>63.25</td>\n",
       "      <td>516.07</td>\n",
       "      <td>28.51</td>\n",
       "      <td>20.22</td>\n",
       "      <td>84.96</td>\n",
       "    </tr>\n",
       "    <tr>\n",
       "      <th>3197</th>\n",
       "      <td>3198</td>\n",
       "      <td>459.01</td>\n",
       "      <td>56.65</td>\n",
       "      <td>453.37</td>\n",
       "      <td>25.81</td>\n",
       "      <td>19.04</td>\n",
       "      <td>83.65</td>\n",
       "    </tr>\n",
       "    <tr>\n",
       "      <th>3198</th>\n",
       "      <td>3199</td>\n",
       "      <td>545.56</td>\n",
       "      <td>68.65</td>\n",
       "      <td>487.74</td>\n",
       "      <td>26.41</td>\n",
       "      <td>21.87</td>\n",
       "      <td>84.38</td>\n",
       "    </tr>\n",
       "    <tr>\n",
       "      <th>3199</th>\n",
       "      <td>3200</td>\n",
       "      <td>376.28</td>\n",
       "      <td>69.58</td>\n",
       "      <td>487.71</td>\n",
       "      <td>30.38</td>\n",
       "      <td>18.83</td>\n",
       "      <td>76.43</td>\n",
       "    </tr>\n",
       "  </tbody>\n",
       "</table>\n",
       "<p>3200 rows × 7 columns</p>\n",
       "</div>"
      ],
      "text/plain": [
       "        ID   ILLUM  HUMID     CO2  SOUND   TEMP  RYTHM\n",
       "0        1  546.27  64.61  493.64  26.18  21.30  78.00\n",
       "1        2  467.90  65.59  486.10  41.06  23.27  92.39\n",
       "2        3  387.14  70.23  501.81  25.93  18.77  85.17\n",
       "3        4  339.75  74.72  535.88  30.50  19.41  80.76\n",
       "4        5  521.01  64.09  492.80  40.96  20.30  81.00\n",
       "...    ...     ...    ...     ...    ...    ...    ...\n",
       "3195  3196  549.06  67.97  553.70  27.40  16.49  76.93\n",
       "3196  3197  408.51  63.25  516.07  28.51  20.22  84.96\n",
       "3197  3198  459.01  56.65  453.37  25.81  19.04  83.65\n",
       "3198  3199  545.56  68.65  487.74  26.41  21.87  84.38\n",
       "3199  3200  376.28  69.58  487.71  30.38  18.83  76.43\n",
       "\n",
       "[3200 rows x 7 columns]"
      ]
     },
     "execution_count": 2,
     "metadata": {},
     "output_type": "execute_result"
    }
   ],
   "source": [
    "df_raw = pd.read_csv(r'C:\\Users\\st_hm\\OneDrive\\Área de Trabalho\\IBM 2021\\2 quanam\\quanam_broker.csv',sep =';' )\n",
    "df_raw"
   ]
  },
  {
   "cell_type": "markdown",
   "id": "0f0e76a7",
   "metadata": {},
   "source": [
    "## 0.1 Informaçoes das colunas (features)\n",
    "- ID - Tag da mediçao\n",
    "- ILLUM - Valor medido de iluminaçao (Lux)\n",
    "- HUMID - Valor medido de umidade (%)\n",
    "- CO2 - Valor medido da concentraçao de CO2 (PPM)\n",
    "- SOUND - Valor do ruido sonoro (DB)\n",
    "- TEMP - Valor da temperatura (C)\n",
    "- RYTHM - Valor medido do ritmo cardiaco \n"
   ]
  },
  {
   "cell_type": "markdown",
   "id": "ef4842f4",
   "metadata": {},
   "source": [
    "# 1.0 Descriçao dos dados"
   ]
  },
  {
   "cell_type": "code",
   "execution_count": 3,
   "id": "8fec7c87",
   "metadata": {},
   "outputs": [
    {
     "data": {
      "text/html": [
       "<div>\n",
       "<style scoped>\n",
       "    .dataframe tbody tr th:only-of-type {\n",
       "        vertical-align: middle;\n",
       "    }\n",
       "\n",
       "    .dataframe tbody tr th {\n",
       "        vertical-align: top;\n",
       "    }\n",
       "\n",
       "    .dataframe thead th {\n",
       "        text-align: right;\n",
       "    }\n",
       "</style>\n",
       "<table border=\"1\" class=\"dataframe\">\n",
       "  <thead>\n",
       "    <tr style=\"text-align: right;\">\n",
       "      <th></th>\n",
       "      <th>ID</th>\n",
       "      <th>ILLUM</th>\n",
       "      <th>HUMID</th>\n",
       "      <th>CO2</th>\n",
       "      <th>SOUND</th>\n",
       "      <th>TEMP</th>\n",
       "      <th>RYTHM</th>\n",
       "    </tr>\n",
       "  </thead>\n",
       "  <tbody>\n",
       "    <tr>\n",
       "      <th>0</th>\n",
       "      <td>1</td>\n",
       "      <td>546.27</td>\n",
       "      <td>64.61</td>\n",
       "      <td>493.64</td>\n",
       "      <td>26.18</td>\n",
       "      <td>21.30</td>\n",
       "      <td>78.00</td>\n",
       "    </tr>\n",
       "    <tr>\n",
       "      <th>1</th>\n",
       "      <td>2</td>\n",
       "      <td>467.90</td>\n",
       "      <td>65.59</td>\n",
       "      <td>486.10</td>\n",
       "      <td>41.06</td>\n",
       "      <td>23.27</td>\n",
       "      <td>92.39</td>\n",
       "    </tr>\n",
       "    <tr>\n",
       "      <th>2</th>\n",
       "      <td>3</td>\n",
       "      <td>387.14</td>\n",
       "      <td>70.23</td>\n",
       "      <td>501.81</td>\n",
       "      <td>25.93</td>\n",
       "      <td>18.77</td>\n",
       "      <td>85.17</td>\n",
       "    </tr>\n",
       "    <tr>\n",
       "      <th>3</th>\n",
       "      <td>4</td>\n",
       "      <td>339.75</td>\n",
       "      <td>74.72</td>\n",
       "      <td>535.88</td>\n",
       "      <td>30.50</td>\n",
       "      <td>19.41</td>\n",
       "      <td>80.76</td>\n",
       "    </tr>\n",
       "    <tr>\n",
       "      <th>4</th>\n",
       "      <td>5</td>\n",
       "      <td>521.01</td>\n",
       "      <td>64.09</td>\n",
       "      <td>492.80</td>\n",
       "      <td>40.96</td>\n",
       "      <td>20.30</td>\n",
       "      <td>81.00</td>\n",
       "    </tr>\n",
       "    <tr>\n",
       "      <th>...</th>\n",
       "      <td>...</td>\n",
       "      <td>...</td>\n",
       "      <td>...</td>\n",
       "      <td>...</td>\n",
       "      <td>...</td>\n",
       "      <td>...</td>\n",
       "      <td>...</td>\n",
       "    </tr>\n",
       "    <tr>\n",
       "      <th>3195</th>\n",
       "      <td>3196</td>\n",
       "      <td>549.06</td>\n",
       "      <td>67.97</td>\n",
       "      <td>553.70</td>\n",
       "      <td>27.40</td>\n",
       "      <td>16.49</td>\n",
       "      <td>76.93</td>\n",
       "    </tr>\n",
       "    <tr>\n",
       "      <th>3196</th>\n",
       "      <td>3197</td>\n",
       "      <td>408.51</td>\n",
       "      <td>63.25</td>\n",
       "      <td>516.07</td>\n",
       "      <td>28.51</td>\n",
       "      <td>20.22</td>\n",
       "      <td>84.96</td>\n",
       "    </tr>\n",
       "    <tr>\n",
       "      <th>3197</th>\n",
       "      <td>3198</td>\n",
       "      <td>459.01</td>\n",
       "      <td>56.65</td>\n",
       "      <td>453.37</td>\n",
       "      <td>25.81</td>\n",
       "      <td>19.04</td>\n",
       "      <td>83.65</td>\n",
       "    </tr>\n",
       "    <tr>\n",
       "      <th>3198</th>\n",
       "      <td>3199</td>\n",
       "      <td>545.56</td>\n",
       "      <td>68.65</td>\n",
       "      <td>487.74</td>\n",
       "      <td>26.41</td>\n",
       "      <td>21.87</td>\n",
       "      <td>84.38</td>\n",
       "    </tr>\n",
       "    <tr>\n",
       "      <th>3199</th>\n",
       "      <td>3200</td>\n",
       "      <td>376.28</td>\n",
       "      <td>69.58</td>\n",
       "      <td>487.71</td>\n",
       "      <td>30.38</td>\n",
       "      <td>18.83</td>\n",
       "      <td>76.43</td>\n",
       "    </tr>\n",
       "  </tbody>\n",
       "</table>\n",
       "<p>3200 rows × 7 columns</p>\n",
       "</div>"
      ],
      "text/plain": [
       "        ID   ILLUM  HUMID     CO2  SOUND   TEMP  RYTHM\n",
       "0        1  546.27  64.61  493.64  26.18  21.30  78.00\n",
       "1        2  467.90  65.59  486.10  41.06  23.27  92.39\n",
       "2        3  387.14  70.23  501.81  25.93  18.77  85.17\n",
       "3        4  339.75  74.72  535.88  30.50  19.41  80.76\n",
       "4        5  521.01  64.09  492.80  40.96  20.30  81.00\n",
       "...    ...     ...    ...     ...    ...    ...    ...\n",
       "3195  3196  549.06  67.97  553.70  27.40  16.49  76.93\n",
       "3196  3197  408.51  63.25  516.07  28.51  20.22  84.96\n",
       "3197  3198  459.01  56.65  453.37  25.81  19.04  83.65\n",
       "3198  3199  545.56  68.65  487.74  26.41  21.87  84.38\n",
       "3199  3200  376.28  69.58  487.71  30.38  18.83  76.43\n",
       "\n",
       "[3200 rows x 7 columns]"
      ]
     },
     "execution_count": 3,
     "metadata": {},
     "output_type": "execute_result"
    }
   ],
   "source": [
    "df1 = df_raw.copy()\n",
    "df1"
   ]
  },
  {
   "cell_type": "markdown",
   "id": "6f6dcc4e",
   "metadata": {},
   "source": [
    "## 1.1 Dimensão dos dados"
   ]
  },
  {
   "cell_type": "code",
   "execution_count": 4,
   "id": "b58801a1",
   "metadata": {},
   "outputs": [
    {
     "name": "stdout",
     "output_type": "stream",
     "text": [
      "Numero de linhas: 3200\n",
      "Numero de colunas: 7\n"
     ]
    }
   ],
   "source": [
    "print (\"Numero de linhas: {}\".format(df1.shape[0]))\n",
    "print (\"Numero de colunas: {}\".format(df1.shape[1]))"
   ]
  },
  {
   "cell_type": "code",
   "execution_count": 5,
   "id": "15924795",
   "metadata": {},
   "outputs": [
    {
     "data": {
      "text/plain": [
       "ID         int64\n",
       "ILLUM    float64\n",
       "HUMID    float64\n",
       "CO2      float64\n",
       "SOUND    float64\n",
       "TEMP     float64\n",
       "RYTHM    float64\n",
       "dtype: object"
      ]
     },
     "execution_count": 5,
     "metadata": {},
     "output_type": "execute_result"
    }
   ],
   "source": [
    "df1.dtypes"
   ]
  },
  {
   "cell_type": "code",
   "execution_count": 6,
   "id": "ce2193eb",
   "metadata": {},
   "outputs": [
    {
     "data": {
      "text/html": [
       "<div>\n",
       "<style scoped>\n",
       "    .dataframe tbody tr th:only-of-type {\n",
       "        vertical-align: middle;\n",
       "    }\n",
       "\n",
       "    .dataframe tbody tr th {\n",
       "        vertical-align: top;\n",
       "    }\n",
       "\n",
       "    .dataframe thead th {\n",
       "        text-align: right;\n",
       "    }\n",
       "</style>\n",
       "<table border=\"1\" class=\"dataframe\">\n",
       "  <thead>\n",
       "    <tr style=\"text-align: right;\">\n",
       "      <th></th>\n",
       "      <th>ID</th>\n",
       "      <th>ILLUM</th>\n",
       "      <th>HUMID</th>\n",
       "      <th>CO2</th>\n",
       "      <th>SOUND</th>\n",
       "      <th>TEMP</th>\n",
       "      <th>RYTHM</th>\n",
       "    </tr>\n",
       "  </thead>\n",
       "  <tbody>\n",
       "    <tr>\n",
       "      <th>count</th>\n",
       "      <td>3200.000000</td>\n",
       "      <td>3200.000000</td>\n",
       "      <td>3200.000000</td>\n",
       "      <td>3200.000000</td>\n",
       "      <td>3200.000000</td>\n",
       "      <td>3200.000000</td>\n",
       "      <td>3200.000000</td>\n",
       "    </tr>\n",
       "    <tr>\n",
       "      <th>mean</th>\n",
       "      <td>1600.500000</td>\n",
       "      <td>439.163412</td>\n",
       "      <td>67.086106</td>\n",
       "      <td>501.620666</td>\n",
       "      <td>29.840194</td>\n",
       "      <td>20.042578</td>\n",
       "      <td>80.156616</td>\n",
       "    </tr>\n",
       "    <tr>\n",
       "      <th>std</th>\n",
       "      <td>923.904757</td>\n",
       "      <td>89.915142</td>\n",
       "      <td>4.776214</td>\n",
       "      <td>42.951183</td>\n",
       "      <td>6.158710</td>\n",
       "      <td>1.648479</td>\n",
       "      <td>6.755854</td>\n",
       "    </tr>\n",
       "    <tr>\n",
       "      <th>min</th>\n",
       "      <td>1.000000</td>\n",
       "      <td>145.480000</td>\n",
       "      <td>51.860000</td>\n",
       "      <td>352.820000</td>\n",
       "      <td>8.060000</td>\n",
       "      <td>14.760000</td>\n",
       "      <td>55.370000</td>\n",
       "    </tr>\n",
       "    <tr>\n",
       "      <th>25%</th>\n",
       "      <td>800.750000</td>\n",
       "      <td>377.060000</td>\n",
       "      <td>63.770000</td>\n",
       "      <td>471.427500</td>\n",
       "      <td>25.550000</td>\n",
       "      <td>18.920000</td>\n",
       "      <td>75.657500</td>\n",
       "    </tr>\n",
       "    <tr>\n",
       "      <th>50%</th>\n",
       "      <td>1600.500000</td>\n",
       "      <td>437.375000</td>\n",
       "      <td>66.935000</td>\n",
       "      <td>502.350000</td>\n",
       "      <td>29.885000</td>\n",
       "      <td>20.050000</td>\n",
       "      <td>80.220000</td>\n",
       "    </tr>\n",
       "    <tr>\n",
       "      <th>75%</th>\n",
       "      <td>2400.250000</td>\n",
       "      <td>500.792500</td>\n",
       "      <td>70.330000</td>\n",
       "      <td>530.142500</td>\n",
       "      <td>33.932500</td>\n",
       "      <td>21.180000</td>\n",
       "      <td>84.660000</td>\n",
       "    </tr>\n",
       "    <tr>\n",
       "      <th>max</th>\n",
       "      <td>3200.000000</td>\n",
       "      <td>775.140000</td>\n",
       "      <td>83.900000</td>\n",
       "      <td>672.380000</td>\n",
       "      <td>53.780000</td>\n",
       "      <td>26.290000</td>\n",
       "      <td>108.900000</td>\n",
       "    </tr>\n",
       "  </tbody>\n",
       "</table>\n",
       "</div>"
      ],
      "text/plain": [
       "                ID        ILLUM        HUMID          CO2        SOUND  \\\n",
       "count  3200.000000  3200.000000  3200.000000  3200.000000  3200.000000   \n",
       "mean   1600.500000   439.163412    67.086106   501.620666    29.840194   \n",
       "std     923.904757    89.915142     4.776214    42.951183     6.158710   \n",
       "min       1.000000   145.480000    51.860000   352.820000     8.060000   \n",
       "25%     800.750000   377.060000    63.770000   471.427500    25.550000   \n",
       "50%    1600.500000   437.375000    66.935000   502.350000    29.885000   \n",
       "75%    2400.250000   500.792500    70.330000   530.142500    33.932500   \n",
       "max    3200.000000   775.140000    83.900000   672.380000    53.780000   \n",
       "\n",
       "              TEMP        RYTHM  \n",
       "count  3200.000000  3200.000000  \n",
       "mean     20.042578    80.156616  \n",
       "std       1.648479     6.755854  \n",
       "min      14.760000    55.370000  \n",
       "25%      18.920000    75.657500  \n",
       "50%      20.050000    80.220000  \n",
       "75%      21.180000    84.660000  \n",
       "max      26.290000   108.900000  "
      ]
     },
     "execution_count": 6,
     "metadata": {},
     "output_type": "execute_result"
    }
   ],
   "source": [
    "df1.describe()"
   ]
  },
  {
   "cell_type": "code",
   "execution_count": 7,
   "id": "e2605d48",
   "metadata": {},
   "outputs": [
    {
     "data": {
      "text/plain": [
       "ID       0\n",
       "ILLUM    0\n",
       "HUMID    0\n",
       "CO2      0\n",
       "SOUND    0\n",
       "TEMP     0\n",
       "RYTHM    0\n",
       "dtype: int64"
      ]
     },
     "execution_count": 7,
     "metadata": {},
     "output_type": "execute_result"
    }
   ],
   "source": [
    "df1.isna().sum()"
   ]
  },
  {
   "cell_type": "code",
   "execution_count": 8,
   "id": "ad08ebcf",
   "metadata": {},
   "outputs": [
    {
     "data": {
      "text/html": [
       "<div>\n",
       "<style scoped>\n",
       "    .dataframe tbody tr th:only-of-type {\n",
       "        vertical-align: middle;\n",
       "    }\n",
       "\n",
       "    .dataframe tbody tr th {\n",
       "        vertical-align: top;\n",
       "    }\n",
       "\n",
       "    .dataframe thead th {\n",
       "        text-align: right;\n",
       "    }\n",
       "</style>\n",
       "<table border=\"1\" class=\"dataframe\">\n",
       "  <thead>\n",
       "    <tr style=\"text-align: right;\">\n",
       "      <th></th>\n",
       "      <th>attributes</th>\n",
       "      <th>min</th>\n",
       "      <th>max</th>\n",
       "      <th>range</th>\n",
       "      <th>mean</th>\n",
       "      <th>median</th>\n",
       "      <th>std</th>\n",
       "      <th>skew</th>\n",
       "      <th>kurtosis</th>\n",
       "    </tr>\n",
       "  </thead>\n",
       "  <tbody>\n",
       "    <tr>\n",
       "      <th>0</th>\n",
       "      <td>ID</td>\n",
       "      <td>1.00</td>\n",
       "      <td>3200.00</td>\n",
       "      <td>3199.00</td>\n",
       "      <td>1600.500000</td>\n",
       "      <td>1600.500</td>\n",
       "      <td>923.760386</td>\n",
       "      <td>0.000000</td>\n",
       "      <td>-1.200000</td>\n",
       "    </tr>\n",
       "    <tr>\n",
       "      <th>1</th>\n",
       "      <td>ILLUM</td>\n",
       "      <td>145.48</td>\n",
       "      <td>775.14</td>\n",
       "      <td>629.66</td>\n",
       "      <td>439.163412</td>\n",
       "      <td>437.375</td>\n",
       "      <td>89.901092</td>\n",
       "      <td>0.004456</td>\n",
       "      <td>-0.050162</td>\n",
       "    </tr>\n",
       "    <tr>\n",
       "      <th>2</th>\n",
       "      <td>HUMID</td>\n",
       "      <td>51.86</td>\n",
       "      <td>83.90</td>\n",
       "      <td>32.04</td>\n",
       "      <td>67.086106</td>\n",
       "      <td>66.935</td>\n",
       "      <td>4.775468</td>\n",
       "      <td>0.101302</td>\n",
       "      <td>-0.112579</td>\n",
       "    </tr>\n",
       "    <tr>\n",
       "      <th>3</th>\n",
       "      <td>CO2</td>\n",
       "      <td>352.82</td>\n",
       "      <td>672.38</td>\n",
       "      <td>319.56</td>\n",
       "      <td>501.620666</td>\n",
       "      <td>502.350</td>\n",
       "      <td>42.944471</td>\n",
       "      <td>0.037787</td>\n",
       "      <td>0.026974</td>\n",
       "    </tr>\n",
       "    <tr>\n",
       "      <th>4</th>\n",
       "      <td>SOUND</td>\n",
       "      <td>8.06</td>\n",
       "      <td>53.78</td>\n",
       "      <td>45.72</td>\n",
       "      <td>29.840194</td>\n",
       "      <td>29.885</td>\n",
       "      <td>6.157748</td>\n",
       "      <td>-0.038358</td>\n",
       "      <td>0.012988</td>\n",
       "    </tr>\n",
       "    <tr>\n",
       "      <th>5</th>\n",
       "      <td>TEMP</td>\n",
       "      <td>14.76</td>\n",
       "      <td>26.29</td>\n",
       "      <td>11.53</td>\n",
       "      <td>20.042578</td>\n",
       "      <td>20.050</td>\n",
       "      <td>1.648222</td>\n",
       "      <td>0.014462</td>\n",
       "      <td>-0.133763</td>\n",
       "    </tr>\n",
       "    <tr>\n",
       "      <th>6</th>\n",
       "      <td>RYTHM</td>\n",
       "      <td>55.37</td>\n",
       "      <td>108.90</td>\n",
       "      <td>53.53</td>\n",
       "      <td>80.156616</td>\n",
       "      <td>80.220</td>\n",
       "      <td>6.754798</td>\n",
       "      <td>0.004693</td>\n",
       "      <td>0.076787</td>\n",
       "    </tr>\n",
       "  </tbody>\n",
       "</table>\n",
       "</div>"
      ],
      "text/plain": [
       "  attributes     min      max    range         mean    median         std  \\\n",
       "0         ID    1.00  3200.00  3199.00  1600.500000  1600.500  923.760386   \n",
       "1      ILLUM  145.48   775.14   629.66   439.163412   437.375   89.901092   \n",
       "2      HUMID   51.86    83.90    32.04    67.086106    66.935    4.775468   \n",
       "3        CO2  352.82   672.38   319.56   501.620666   502.350   42.944471   \n",
       "4      SOUND    8.06    53.78    45.72    29.840194    29.885    6.157748   \n",
       "5       TEMP   14.76    26.29    11.53    20.042578    20.050    1.648222   \n",
       "6      RYTHM   55.37   108.90    53.53    80.156616    80.220    6.754798   \n",
       "\n",
       "       skew  kurtosis  \n",
       "0  0.000000 -1.200000  \n",
       "1  0.004456 -0.050162  \n",
       "2  0.101302 -0.112579  \n",
       "3  0.037787  0.026974  \n",
       "4 -0.038358  0.012988  \n",
       "5  0.014462 -0.133763  \n",
       "6  0.004693  0.076787  "
      ]
     },
     "execution_count": 8,
     "metadata": {},
     "output_type": "execute_result"
    }
   ],
   "source": [
    "#Central Tendency - mean, median\n",
    "df1_mean = pd.DataFrame(df1.apply(np.mean)).T\n",
    "df1_median = pd.DataFrame(df1.apply(np.median)).T\n",
    "\n",
    "#Dispersion - std, min, max, range, skew, kurtosis\n",
    "df1_std = pd.DataFrame(df1.apply(np.std)).T\n",
    "df1_max = pd.DataFrame(df1.apply(max)).T\n",
    "df1_min = pd.DataFrame(df1.apply(min)).T\n",
    "df1_range = pd.DataFrame(df1.apply(lambda x: x.max() - x.min())).T\n",
    "df1_skew = pd.DataFrame(df1.apply(lambda x: x.skew())).T\n",
    "df1_kurt = pd.DataFrame(df1.apply(lambda x: x.kurtosis())).T\n",
    "\n",
    "#concatenate \n",
    "num = pd.concat([df1_min, df1_max, df1_range, df1_mean, df1_median, df1_std, df1_skew,df1_kurt]).T.reset_index()\n",
    "num.columns = (['attributes','min','max','range','mean','median','std','skew','kurtosis'])\n",
    "num"
   ]
  },
  {
   "cell_type": "markdown",
   "id": "8733e0c3",
   "metadata": {},
   "source": [
    "# 2.0 Analise exploratoria"
   ]
  },
  {
   "cell_type": "code",
   "execution_count": 9,
   "id": "07b66336",
   "metadata": {},
   "outputs": [],
   "source": [
    "df2 = df1.copy()"
   ]
  },
  {
   "cell_type": "code",
   "execution_count": 10,
   "id": "82e575f5",
   "metadata": {},
   "outputs": [
    {
     "data": {
      "image/png": "[encoded data removed]",
      "text/plain": [
       "<Figure size 1080x576 with 1 Axes>"
      ]
     },
     "metadata": {
      "needs_background": "light"
     },
     "output_type": "display_data"
    }
   ],
   "source": [
    "plt.figure(figsize=(15, 8))\n",
    "sns.histplot(df2['RYTHM']);"
   ]
  },
  {
   "cell_type": "code",
   "execution_count": 11,
   "id": "e93d33e4",
   "metadata": {},
   "outputs": [
    {
     "data": {
      "image/png": "[encoded data removed]",
      "text/plain": [
       "<Figure size 1080x720 with 9 Axes>"
      ]
     },
     "metadata": {
      "needs_background": "light"
     },
     "output_type": "display_data"
    }
   ],
   "source": [
    "df2.hist(figsize=(15,10));"
   ]
  },
  {
   "cell_type": "code",
   "execution_count": 12,
   "id": "8da52910",
   "metadata": {},
   "outputs": [
    {
     "data": {
      "image/png": "[encoded data removed]",
      "text/plain": [
       "<Figure size 1080x576 with 2 Axes>"
      ]
     },
     "metadata": {
      "needs_background": "light"
     },
     "output_type": "display_data"
    }
   ],
   "source": [
    "plt.figure(figsize=(15, 8))\n",
    "sns.heatmap(df2.corr(method='pearson'), annot = True);"
   ]
  },
  {
   "cell_type": "code",
   "execution_count": null,
   "id": "3a259ea5",
   "metadata": {},
   "outputs": [],
   "source": []
  },
  {
   "cell_type": "markdown",
   "id": "761429be",
   "metadata": {},
   "source": [
    "# 3.0 Preparaçao dos dados"
   ]
  },
  {
   "cell_type": "code",
   "execution_count": 13,
   "id": "32a5c639",
   "metadata": {},
   "outputs": [],
   "source": [
    "df3 = df2.copy()"
   ]
  },
  {
   "cell_type": "markdown",
   "id": "1cc146ec",
   "metadata": {},
   "source": [
    "# 4.0 Modelos de machine learning"
   ]
  },
  {
   "cell_type": "code",
   "execution_count": 14,
   "id": "30e475c8",
   "metadata": {},
   "outputs": [],
   "source": [
    "df4 =  df3.copy()"
   ]
  },
  {
   "cell_type": "code",
   "execution_count": 15,
   "id": "eb082f27",
   "metadata": {},
   "outputs": [],
   "source": [
    "features = ['ILLUM', 'HUMID','CO2', 'SOUND', 'TEMP']\n",
    "target = ['RYTHM']\n",
    "\n",
    "X = df4[features]\n",
    "y = df4[target]"
   ]
  },
  {
   "cell_type": "code",
   "execution_count": 16,
   "id": "931e1b56",
   "metadata": {},
   "outputs": [],
   "source": [
    "seed = 12\n",
    "test_pct = 0.3 # Separaremos 30% dos dados para testes\n",
    "X_train, X_test, y_train, y_test = train_test_split(X, y, test_size=test_pct)"
   ]
  },
  {
   "cell_type": "code",
   "execution_count": 17,
   "id": "625a19ce",
   "metadata": {},
   "outputs": [
    {
     "name": "stdout",
     "output_type": "stream",
     "text": [
      "R² do modelo LinearRegression: 0.23618047296086886\n"
     ]
    }
   ],
   "source": [
    "#LinearRegression\n",
    "model = LinearRegression()\n",
    "model.fit(X_train, y_train)\n",
    "\n",
    "y_pred = model.predict(X_test)\n",
    "acc = r2_score(y_test, y_pred)\n",
    "print(f\"R² do modelo LinearRegression: {acc}\")"
   ]
  },
  {
   "cell_type": "code",
   "execution_count": 18,
   "id": "7be301bc",
   "metadata": {},
   "outputs": [
    {
     "name": "stdout",
     "output_type": "stream",
     "text": [
      "R² do modelo Lasso: 0.2360010889573655\n"
     ]
    }
   ],
   "source": [
    "#Lasso\n",
    "model = Lasso(alpha = 0.01, random_state=seed)\n",
    "model.fit(X_train, y_train)\n",
    "\n",
    "y_pred = model.predict(X_test)\n",
    "acc = r2_score(y_test, y_pred)\n",
    "print(f\"R² do modelo Lasso: {acc}\")"
   ]
  },
  {
   "cell_type": "code",
   "execution_count": 19,
   "id": "f0007f7b",
   "metadata": {},
   "outputs": [
    {
     "name": "stdout",
     "output_type": "stream",
     "text": [
      "R² do modelo RamdomForest: 0.18002863342338504\n"
     ]
    },
    {
     "name": "stderr",
     "output_type": "stream",
     "text": [
      "<ipython-input-19-3afc6787b425>:3: DataConversionWarning: A column-vector y was passed when a 1d array was expected. Please change the shape of y to (n_samples,), for example using ravel().\n",
      "  model.fit(X_train, y_train)\n"
     ]
    }
   ],
   "source": [
    "#RamdomForest\n",
    "model = RandomForestRegressor(n_estimators = 100, n_jobs=-1, random_state=seed)\n",
    "model.fit(X_train, y_train)\n",
    "\n",
    "y_pred = model.predict(X_test)\n",
    "acc = r2_score(y_test, y_pred)\n",
    "print(f\"R² do modelo RamdomForest: {acc}\")"
   ]
  },
  {
   "cell_type": "markdown",
   "id": "3ea41ed1",
   "metadata": {},
   "source": []
  },
  {
   "cell_type": "code",
   "execution_count": 20,
   "id": "43e4c9c7",
   "metadata": {},
   "outputs": [
    {
     "name": "stdout",
     "output_type": "stream",
     "text": [
      "R² do modelo RamdomForest: 0.2360010889573655\n",
      "R² do modelo RamdomForest: 0.23526043936390384\n",
      "R² do modelo RamdomForest: 0.23428275564601175\n",
      "R² do modelo RamdomForest: 0.22448726720488954\n",
      "R² do modelo RamdomForest: 0.21688801543975844\n",
      "R² do modelo RamdomForest: 0.20821005556783534\n"
     ]
    }
   ],
   "source": [
    "steps=[0.01,0.05,0.1,0.5, 0.75, 1]\n",
    "for x in steps:  \n",
    "    model = Lasso(alpha = x, random_state=seed)\n",
    "    model.fit(X_train, y_train)\n",
    "\n",
    "    y_pred = model.predict(X_test)\n",
    "    acc = r2_score(y_test, y_pred)\n",
    "    print(f\"R² do modelo RamdomForest: {acc}\")"
   ]
  },
  {
   "cell_type": "markdown",
   "id": "34f76ace",
   "metadata": {},
   "source": [
    "# 6.0 Aplicaçao da tabela teste"
   ]
  },
  {
   "cell_type": "code",
   "execution_count": 21,
   "id": "0fffcb85",
   "metadata": {},
   "outputs": [
    {
     "data": {
      "text/html": [
       "<div>\n",
       "<style scoped>\n",
       "    .dataframe tbody tr th:only-of-type {\n",
       "        vertical-align: middle;\n",
       "    }\n",
       "\n",
       "    .dataframe tbody tr th {\n",
       "        vertical-align: top;\n",
       "    }\n",
       "\n",
       "    .dataframe thead th {\n",
       "        text-align: right;\n",
       "    }\n",
       "</style>\n",
       "<table border=\"1\" class=\"dataframe\">\n",
       "  <thead>\n",
       "    <tr style=\"text-align: right;\">\n",
       "      <th></th>\n",
       "      <th>ID</th>\n",
       "      <th>ILLUM</th>\n",
       "      <th>HUMID</th>\n",
       "      <th>CO2</th>\n",
       "      <th>SOUND</th>\n",
       "      <th>TEMP</th>\n",
       "      <th>RYTHM</th>\n",
       "    </tr>\n",
       "  </thead>\n",
       "  <tbody>\n",
       "    <tr>\n",
       "      <th>0</th>\n",
       "      <td>0</td>\n",
       "      <td>337.90</td>\n",
       "      <td>63.29</td>\n",
       "      <td>518.13</td>\n",
       "      <td>22.38</td>\n",
       "      <td>18.59</td>\n",
       "      <td>0.0</td>\n",
       "    </tr>\n",
       "    <tr>\n",
       "      <th>1</th>\n",
       "      <td>1</td>\n",
       "      <td>342.96</td>\n",
       "      <td>63.19</td>\n",
       "      <td>488.85</td>\n",
       "      <td>37.36</td>\n",
       "      <td>20.41</td>\n",
       "      <td>0.0</td>\n",
       "    </tr>\n",
       "    <tr>\n",
       "      <th>2</th>\n",
       "      <td>2</td>\n",
       "      <td>369.86</td>\n",
       "      <td>57.39</td>\n",
       "      <td>516.86</td>\n",
       "      <td>26.45</td>\n",
       "      <td>20.89</td>\n",
       "      <td>0.0</td>\n",
       "    </tr>\n",
       "    <tr>\n",
       "      <th>3</th>\n",
       "      <td>3</td>\n",
       "      <td>304.65</td>\n",
       "      <td>67.80</td>\n",
       "      <td>517.50</td>\n",
       "      <td>32.98</td>\n",
       "      <td>22.52</td>\n",
       "      <td>0.0</td>\n",
       "    </tr>\n",
       "    <tr>\n",
       "      <th>4</th>\n",
       "      <td>4</td>\n",
       "      <td>442.25</td>\n",
       "      <td>68.21</td>\n",
       "      <td>500.91</td>\n",
       "      <td>37.28</td>\n",
       "      <td>21.88</td>\n",
       "      <td>0.0</td>\n",
       "    </tr>\n",
       "    <tr>\n",
       "      <th>...</th>\n",
       "      <td>...</td>\n",
       "      <td>...</td>\n",
       "      <td>...</td>\n",
       "      <td>...</td>\n",
       "      <td>...</td>\n",
       "      <td>...</td>\n",
       "      <td>...</td>\n",
       "    </tr>\n",
       "    <tr>\n",
       "      <th>795</th>\n",
       "      <td>795</td>\n",
       "      <td>421.39</td>\n",
       "      <td>55.97</td>\n",
       "      <td>451.86</td>\n",
       "      <td>29.25</td>\n",
       "      <td>18.96</td>\n",
       "      <td>0.0</td>\n",
       "    </tr>\n",
       "    <tr>\n",
       "      <th>796</th>\n",
       "      <td>796</td>\n",
       "      <td>572.90</td>\n",
       "      <td>59.42</td>\n",
       "      <td>502.12</td>\n",
       "      <td>36.12</td>\n",
       "      <td>19.70</td>\n",
       "      <td>0.0</td>\n",
       "    </tr>\n",
       "    <tr>\n",
       "      <th>797</th>\n",
       "      <td>797</td>\n",
       "      <td>460.78</td>\n",
       "      <td>64.28</td>\n",
       "      <td>560.54</td>\n",
       "      <td>31.20</td>\n",
       "      <td>15.11</td>\n",
       "      <td>0.0</td>\n",
       "    </tr>\n",
       "    <tr>\n",
       "      <th>798</th>\n",
       "      <td>798</td>\n",
       "      <td>499.75</td>\n",
       "      <td>67.20</td>\n",
       "      <td>536.88</td>\n",
       "      <td>30.68</td>\n",
       "      <td>17.57</td>\n",
       "      <td>0.0</td>\n",
       "    </tr>\n",
       "    <tr>\n",
       "      <th>799</th>\n",
       "      <td>799</td>\n",
       "      <td>453.78</td>\n",
       "      <td>58.24</td>\n",
       "      <td>442.83</td>\n",
       "      <td>26.21</td>\n",
       "      <td>20.58</td>\n",
       "      <td>0.0</td>\n",
       "    </tr>\n",
       "  </tbody>\n",
       "</table>\n",
       "<p>800 rows × 7 columns</p>\n",
       "</div>"
      ],
      "text/plain": [
       "      ID   ILLUM  HUMID     CO2  SOUND   TEMP  RYTHM\n",
       "0      0  337.90  63.29  518.13  22.38  18.59    0.0\n",
       "1      1  342.96  63.19  488.85  37.36  20.41    0.0\n",
       "2      2  369.86  57.39  516.86  26.45  20.89    0.0\n",
       "3      3  304.65  67.80  517.50  32.98  22.52    0.0\n",
       "4      4  442.25  68.21  500.91  37.28  21.88    0.0\n",
       "..   ...     ...    ...     ...    ...    ...    ...\n",
       "795  795  421.39  55.97  451.86  29.25  18.96    0.0\n",
       "796  796  572.90  59.42  502.12  36.12  19.70    0.0\n",
       "797  797  460.78  64.28  560.54  31.20  15.11    0.0\n",
       "798  798  499.75  67.20  536.88  30.68  17.57    0.0\n",
       "799  799  453.78  58.24  442.83  26.21  20.58    0.0\n",
       "\n",
       "[800 rows x 7 columns]"
      ]
     },
     "execution_count": 21,
     "metadata": {},
     "output_type": "execute_result"
    }
   ],
   "source": [
    "df_answers = pd.read_csv(r'C:\\Users\\st_hm\\OneDrive\\Área de Trabalho\\IBM 2021\\2 quanam\\tabelaTeste.csv')\n",
    "df_answers"
   ]
  },
  {
   "cell_type": "code",
   "execution_count": 22,
   "id": "049c487c",
   "metadata": {},
   "outputs": [
    {
     "data": {
      "text/html": [
       "<div>\n",
       "<style scoped>\n",
       "    .dataframe tbody tr th:only-of-type {\n",
       "        vertical-align: middle;\n",
       "    }\n",
       "\n",
       "    .dataframe tbody tr th {\n",
       "        vertical-align: top;\n",
       "    }\n",
       "\n",
       "    .dataframe thead th {\n",
       "        text-align: right;\n",
       "    }\n",
       "</style>\n",
       "<table border=\"1\" class=\"dataframe\">\n",
       "  <thead>\n",
       "    <tr style=\"text-align: right;\">\n",
       "      <th></th>\n",
       "      <th>ID</th>\n",
       "      <th>ILLUM</th>\n",
       "      <th>HUMID</th>\n",
       "      <th>CO2</th>\n",
       "      <th>SOUND</th>\n",
       "      <th>TEMP</th>\n",
       "      <th>RYTHM</th>\n",
       "    </tr>\n",
       "  </thead>\n",
       "  <tbody>\n",
       "    <tr>\n",
       "      <th>count</th>\n",
       "      <td>800.0000</td>\n",
       "      <td>800.000000</td>\n",
       "      <td>800.000000</td>\n",
       "      <td>800.000000</td>\n",
       "      <td>800.000000</td>\n",
       "      <td>800.000000</td>\n",
       "      <td>800.0</td>\n",
       "    </tr>\n",
       "    <tr>\n",
       "      <th>mean</th>\n",
       "      <td>399.5000</td>\n",
       "      <td>437.067288</td>\n",
       "      <td>66.601225</td>\n",
       "      <td>496.862513</td>\n",
       "      <td>30.516137</td>\n",
       "      <td>20.064812</td>\n",
       "      <td>0.0</td>\n",
       "    </tr>\n",
       "    <tr>\n",
       "      <th>std</th>\n",
       "      <td>231.0844</td>\n",
       "      <td>84.935208</td>\n",
       "      <td>5.069337</td>\n",
       "      <td>42.172339</td>\n",
       "      <td>6.347332</td>\n",
       "      <td>1.664799</td>\n",
       "      <td>0.0</td>\n",
       "    </tr>\n",
       "    <tr>\n",
       "      <th>min</th>\n",
       "      <td>0.0000</td>\n",
       "      <td>95.050000</td>\n",
       "      <td>48.350000</td>\n",
       "      <td>350.510000</td>\n",
       "      <td>13.340000</td>\n",
       "      <td>14.960000</td>\n",
       "      <td>0.0</td>\n",
       "    </tr>\n",
       "    <tr>\n",
       "      <th>25%</th>\n",
       "      <td>199.7500</td>\n",
       "      <td>381.865000</td>\n",
       "      <td>63.177500</td>\n",
       "      <td>468.780000</td>\n",
       "      <td>26.307500</td>\n",
       "      <td>18.937500</td>\n",
       "      <td>0.0</td>\n",
       "    </tr>\n",
       "    <tr>\n",
       "      <th>50%</th>\n",
       "      <td>399.5000</td>\n",
       "      <td>434.345000</td>\n",
       "      <td>66.565000</td>\n",
       "      <td>496.825000</td>\n",
       "      <td>30.465000</td>\n",
       "      <td>20.010000</td>\n",
       "      <td>0.0</td>\n",
       "    </tr>\n",
       "    <tr>\n",
       "      <th>75%</th>\n",
       "      <td>599.2500</td>\n",
       "      <td>496.280000</td>\n",
       "      <td>70.235000</td>\n",
       "      <td>524.467500</td>\n",
       "      <td>35.010000</td>\n",
       "      <td>21.182500</td>\n",
       "      <td>0.0</td>\n",
       "    </tr>\n",
       "    <tr>\n",
       "      <th>max</th>\n",
       "      <td>799.0000</td>\n",
       "      <td>741.840000</td>\n",
       "      <td>80.200000</td>\n",
       "      <td>652.550000</td>\n",
       "      <td>50.340000</td>\n",
       "      <td>25.890000</td>\n",
       "      <td>0.0</td>\n",
       "    </tr>\n",
       "  </tbody>\n",
       "</table>\n",
       "</div>"
      ],
      "text/plain": [
       "             ID       ILLUM       HUMID         CO2       SOUND        TEMP  \\\n",
       "count  800.0000  800.000000  800.000000  800.000000  800.000000  800.000000   \n",
       "mean   399.5000  437.067288   66.601225  496.862513   30.516137   20.064812   \n",
       "std    231.0844   84.935208    5.069337   42.172339    6.347332    1.664799   \n",
       "min      0.0000   95.050000   48.350000  350.510000   13.340000   14.960000   \n",
       "25%    199.7500  381.865000   63.177500  468.780000   26.307500   18.937500   \n",
       "50%    399.5000  434.345000   66.565000  496.825000   30.465000   20.010000   \n",
       "75%    599.2500  496.280000   70.235000  524.467500   35.010000   21.182500   \n",
       "max    799.0000  741.840000   80.200000  652.550000   50.340000   25.890000   \n",
       "\n",
       "       RYTHM  \n",
       "count  800.0  \n",
       "mean     0.0  \n",
       "std      0.0  \n",
       "min      0.0  \n",
       "25%      0.0  \n",
       "50%      0.0  \n",
       "75%      0.0  \n",
       "max      0.0  "
      ]
     },
     "execution_count": 22,
     "metadata": {},
     "output_type": "execute_result"
    }
   ],
   "source": [
    "df_answers.describe()"
   ]
  },
  {
   "cell_type": "code",
   "execution_count": 23,
   "id": "28cfcccc",
   "metadata": {},
   "outputs": [],
   "source": [
    "features_answers = ['ILLUM', 'HUMID', 'CO2', 'SOUND', 'TEMP']\n",
    "target_answers = ['RYTHM']\n",
    "\n",
    "X_answers = df_answers[features]\n",
    "y_answers = df_answers[target]"
   ]
  },
  {
   "cell_type": "code",
   "execution_count": 24,
   "id": "03e10ac0",
   "metadata": {
    "scrolled": true
   },
   "outputs": [],
   "source": [
    "model = Lasso(alpha = 0.5)\n",
    "model.fit(X_train, y_train)\n",
    "\n",
    "y_pred = model.predict(X_answers)"
   ]
  },
  {
   "cell_type": "code",
   "execution_count": 25,
   "id": "2abd0555",
   "metadata": {},
   "outputs": [],
   "source": [
    "df_answers['RYTHM'] = y_pred"
   ]
  },
  {
   "cell_type": "code",
   "execution_count": 26,
   "id": "26d9879b",
   "metadata": {},
   "outputs": [],
   "source": [
    "df_answers.to_csv(r'C:\\Users\\st_hm\\OneDrive\\Área de Trabalho\\IBM 2021\\2 quanam\\ANSWERS.csv', index=False)"
   ]
  },
  {
   "cell_type": "code",
   "execution_count": null,
   "id": "a07b698a",
   "metadata": {},
   "outputs": [],
   "source": []
  },
  {
   "cell_type": "code",
   "execution_count": null,
   "id": "3927b9ea",
   "metadata": {},
   "outputs": [],
   "source": []
  }
 ],
 "metadata": {
  "kernelspec": {
   "display_name": "Python 3",
   "language": "python",
   "name": "python3"
  },
  "language_info": {
   "codemirror_mode": {
    "name": "ipython",
    "version": 3
   },
   "file_extension": ".py",
   "mimetype": "text/x-python",
   "name": "python",
   "nbconvert_exporter": "python",
   "pygments_lexer": "ipython3",
   "version": "3.9.7"
  }
 },
 "nbformat": 4,
 "nbformat_minor": 5
}
